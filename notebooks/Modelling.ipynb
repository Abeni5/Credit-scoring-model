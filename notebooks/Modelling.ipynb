{
 "cells": [
  {
   "cell_type": "code",
   "execution_count": 1,
   "id": "cf2b919b",
   "metadata": {},
   "outputs": [],
   "source": [
    "import sys , os\n",
    "import pandas as pd\n",
    "import numpy as np"
   ]
  },
  {
   "cell_type": "code",
   "execution_count": 3,
   "id": "ee8352a5",
   "metadata": {},
   "outputs": [],
   "source": [
    "sys.path.append(os.path.join(os.path.abspath('..')))\n",
    "# Import modules\n",
    "from src import data_loader as dl\n",
    "from scripts.Modelling import preprocess_data, split_the_data,define_models, define_hyperparameter_grids, perform_grid_search,evaluate_best_models,save_best_models"
   ]
  },
  {
   "cell_type": "markdown",
   "id": "e9198d32",
   "metadata": {},
   "source": [
    "Step 1: Load Data"
   ]
  },
  {
   "cell_type": "code",
   "execution_count": 6,
   "id": "b7eb1550",
   "metadata": {},
   "outputs": [
    {
     "name": "stderr",
     "output_type": "stream",
     "text": [
      "ERROR:root:File not found: d:\\credit-risk-model\\data\\transformed_data_credit_scoring.csv\n"
     ]
    },
    {
     "ename": "FileNotFoundError",
     "evalue": "File not found: d:\\credit-risk-model\\data\\transformed_data_credit_scoring.csv",
     "output_type": "error",
     "traceback": [
      "\u001b[31m---------------------------------------------------------------------------\u001b[39m",
      "\u001b[31mFileNotFoundError\u001b[39m                         Traceback (most recent call last)",
      "\u001b[36mCell\u001b[39m\u001b[36m \u001b[39m\u001b[32mIn[6]\u001b[39m\u001b[32m, line 2\u001b[39m\n\u001b[32m      1\u001b[39m \u001b[38;5;66;03m#import data\u001b[39;00m\n\u001b[32m----> \u001b[39m\u001b[32m2\u001b[39m data = \u001b[43mdl\u001b[49m\u001b[43m.\u001b[49m\u001b[43mload_data\u001b[49m\u001b[43m(\u001b[49m\u001b[33;43m\"\u001b[39;49m\u001b[33;43mtransformed_data_credit_scoring.csv\u001b[39;49m\u001b[33;43m\"\u001b[39;49m\u001b[43m)\u001b[49m\n\u001b[32m      3\u001b[39m data.head()\n",
      "\u001b[36mFile \u001b[39m\u001b[32md:\\credit-risk-model\\src\\data_loader.py:71\u001b[39m, in \u001b[36mload_data\u001b[39m\u001b[34m(file_path, dataset_dir)\u001b[39m\n\u001b[32m     69\u001b[39m     error_msg = \u001b[33mf\u001b[39m\u001b[33m\"\u001b[39m\u001b[33mFile not found: \u001b[39m\u001b[38;5;132;01m{\u001b[39;00mfull_file_path\u001b[38;5;132;01m}\u001b[39;00m\u001b[33m\"\u001b[39m\n\u001b[32m     70\u001b[39m     logging.error(error_msg)\n\u001b[32m---> \u001b[39m\u001b[32m71\u001b[39m     \u001b[38;5;28;01mraise\u001b[39;00m \u001b[38;5;167;01mFileNotFoundError\u001b[39;00m(error_msg)\n\u001b[32m     73\u001b[39m \u001b[38;5;28;01mtry\u001b[39;00m:\n\u001b[32m     74\u001b[39m     \u001b[38;5;66;03m# Log the attempt to load the data and perform the loading\u001b[39;00m\n\u001b[32m     75\u001b[39m     logging.info(\u001b[33mf\u001b[39m\u001b[33m\"\u001b[39m\u001b[33mAttempting to load data from: \u001b[39m\u001b[38;5;132;01m{\u001b[39;00mfull_file_path\u001b[38;5;132;01m}\u001b[39;00m\u001b[33m\"\u001b[39m)\n",
      "\u001b[31mFileNotFoundError\u001b[39m: File not found: d:\\credit-risk-model\\data\\transformed_data_credit_scoring.csv"
     ]
    }
   ],
   "source": [
    "#import data\n",
    "data = dl.load_data(\"transformed_data_credit_scoring.csv\")\n",
    "data.head()"
   ]
  }
 ],
 "metadata": {
  "kernelspec": {
   "display_name": "Python 3",
   "language": "python",
   "name": "python3"
  },
  "language_info": {
   "codemirror_mode": {
    "name": "ipython",
    "version": 3
   },
   "file_extension": ".py",
   "mimetype": "text/x-python",
   "name": "python",
   "nbconvert_exporter": "python",
   "pygments_lexer": "ipython3",
   "version": "3.11.1"
  }
 },
 "nbformat": 4,
 "nbformat_minor": 5
}
