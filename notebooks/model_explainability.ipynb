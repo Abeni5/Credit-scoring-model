{
 "cells": [
  {
   "cell_type": "code",
   "execution_count": 1,
   "id": "424b0bf4",
   "metadata": {},
   "outputs": [],
   "source": [
    "# Cell 1: Import Libraries and model_explainability\n",
    "%matplotlib inline\n",
    "import pandas as pd\n",
    "import numpy as np\n",
    "import joblib\n",
    "import matplotlib.pyplot as plt\n",
    "import logging\n",
    "import os, sys\n",
    "import traceback\n",
    "     "
   ]
  },
  {
   "cell_type": "code",
   "execution_count": 2,
   "id": "68717a4a",
   "metadata": {},
   "outputs": [
    {
     "ename": "ModuleNotFoundError",
     "evalue": "No module named 'shap'",
     "output_type": "error",
     "traceback": [
      "\u001b[31m---------------------------------------------------------------------------\u001b[39m",
      "\u001b[31mModuleNotFoundError\u001b[39m                       Traceback (most recent call last)",
      "\u001b[36mCell\u001b[39m\u001b[36m \u001b[39m\u001b[32mIn[2]\u001b[39m\u001b[32m, line 1\u001b[39m\n\u001b[32m----> \u001b[39m\u001b[32m1\u001b[39m \u001b[38;5;28;01mimport\u001b[39;00m\u001b[38;5;250m \u001b[39m\u001b[34;01mshap\u001b[39;00m\n",
      "\u001b[31mModuleNotFoundError\u001b[39m: No module named 'shap'"
     ]
    }
   ],
   "source": [
    "import shap"
   ]
  },
  {
   "cell_type": "code",
   "execution_count": null,
   "id": "92d077d6",
   "metadata": {},
   "outputs": [],
   "source": [
    "\n",
    "sys.path.append(os.path.join(os.path.abspath('..')))\n",
    "# Import modules\n",
    "from src import data_loader as dl\n",
    "from scripts.model_explainability import load_or_preprocess_data, load_models, explain_logistic_regression, explain_random_forest, run_explainability_pipeline\n",
    "\n"
   ]
  },
  {
   "cell_type": "code",
   "execution_count": 3,
   "id": "06556a83",
   "metadata": {},
   "outputs": [],
   "source": [
    "# Cell 2: Run Explainability Pipeline\n",
    "data_path = 'c:/Users/HP/Documents/Dagii/Credit-scoring-model/data/transformed_data_credit_scoring.csv'\n",
    "model_dir = 'c:/Users/HP/Documents/Dagii/Credit-scoring-model/models'\n",
    "save_dir = 'model_explanations'\n"
   ]
  },
  {
   "cell_type": "code",
   "execution_count": 4,
   "id": "8968c853",
   "metadata": {},
   "outputs": [
    {
     "ename": "NameError",
     "evalue": "name 'run_explainability_pipeline' is not defined",
     "output_type": "error",
     "traceback": [
      "\u001b[31m---------------------------------------------------------------------------\u001b[39m",
      "\u001b[31mNameError\u001b[39m                                 Traceback (most recent call last)",
      "\u001b[36mCell\u001b[39m\u001b[36m \u001b[39m\u001b[32mIn[4]\u001b[39m\u001b[32m, line 1\u001b[39m\n\u001b[32m----> \u001b[39m\u001b[32m1\u001b[39m explanations = \u001b[43mrun_explainability_pipeline\u001b[49m(data_path, model_dir, save_dir)\n",
      "\u001b[31mNameError\u001b[39m: name 'run_explainability_pipeline' is not defined"
     ]
    }
   ],
   "source": [
    "explanations = run_explainability_pipeline(data_path, model_dir, save_dir)"
   ]
  }
 ],
 "metadata": {
  "kernelspec": {
   "display_name": "Python 3",
   "language": "python",
   "name": "python3"
  },
  "language_info": {
   "codemirror_mode": {
    "name": "ipython",
    "version": 3
   },
   "file_extension": ".py",
   "mimetype": "text/x-python",
   "name": "python",
   "nbconvert_exporter": "python",
   "pygments_lexer": "ipython3",
   "version": "3.11.1"
  }
 },
 "nbformat": 4,
 "nbformat_minor": 5
}
